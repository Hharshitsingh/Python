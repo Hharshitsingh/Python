{
 "metadata": {
  "language_info": {
   "codemirror_mode": {
    "name": "ipython",
    "version": 3
   },
   "file_extension": ".py",
   "mimetype": "text/x-python",
   "name": "python",
   "nbconvert_exporter": "python",
   "pygments_lexer": "ipython3",
   "version": "3.9.1-final"
  },
  "orig_nbformat": 2,
  "kernelspec": {
   "name": "python3",
   "display_name": "Python 3.9.1 64-bit",
   "metadata": {
    "interpreter": {
     "hash": "ac59ebe37160ed0dfa835113d9b8498d9f09ceb179beaac4002f036b9467c963"
    }
   }
  }
 },
 "nbformat": 4,
 "nbformat_minor": 2,
 "cells": [
  {
   "cell_type": "code",
   "execution_count": 24,
   "metadata": {},
   "outputs": [],
   "source": [
    "import pandas as pd\r\n",
    "import numpy as np\r\n",
    "import random"
   ]
  },
  {
   "cell_type": "code",
   "execution_count": 33,
   "metadata": {},
   "outputs": [
    {
     "output_type": "execute_result",
     "data": {
      "text/plain": [
       "            0         1         2         3         4\n",
       "0    0.968175  0.340477  0.523873  0.108458  0.143794\n",
       "1    0.616071  0.300856  0.449647  0.684266  0.698876\n",
       "2    0.700481  0.732343  0.691803  0.771704  0.501173\n",
       "3    0.358914  0.736212  0.565824  0.606437  0.383978\n",
       "4    0.076704  0.670193  0.423986  0.432746  0.730034\n",
       "..        ...       ...       ...       ...       ...\n",
       "329  0.654699  0.673253  0.910914  0.877196  0.110326\n",
       "330  0.962833  0.581496  0.028722  0.784552  0.338487\n",
       "331  0.284145  0.453252  0.023533  0.343432  0.151557\n",
       "332  0.047628  0.855339  0.252900  0.706581  0.554078\n",
       "333  0.357612  0.073341  0.320213  0.058953  0.471567\n",
       "\n",
       "[334 rows x 5 columns]"
      ],
      "text/html": "<div>\n<style scoped>\n    .dataframe tbody tr th:only-of-type {\n        vertical-align: middle;\n    }\n\n    .dataframe tbody tr th {\n        vertical-align: top;\n    }\n\n    .dataframe thead th {\n        text-align: right;\n    }\n</style>\n<table border=\"1\" class=\"dataframe\">\n  <thead>\n    <tr style=\"text-align: right;\">\n      <th></th>\n      <th>0</th>\n      <th>1</th>\n      <th>2</th>\n      <th>3</th>\n      <th>4</th>\n    </tr>\n  </thead>\n  <tbody>\n    <tr>\n      <th>0</th>\n      <td>0.968175</td>\n      <td>0.340477</td>\n      <td>0.523873</td>\n      <td>0.108458</td>\n      <td>0.143794</td>\n    </tr>\n    <tr>\n      <th>1</th>\n      <td>0.616071</td>\n      <td>0.300856</td>\n      <td>0.449647</td>\n      <td>0.684266</td>\n      <td>0.698876</td>\n    </tr>\n    <tr>\n      <th>2</th>\n      <td>0.700481</td>\n      <td>0.732343</td>\n      <td>0.691803</td>\n      <td>0.771704</td>\n      <td>0.501173</td>\n    </tr>\n    <tr>\n      <th>3</th>\n      <td>0.358914</td>\n      <td>0.736212</td>\n      <td>0.565824</td>\n      <td>0.606437</td>\n      <td>0.383978</td>\n    </tr>\n    <tr>\n      <th>4</th>\n      <td>0.076704</td>\n      <td>0.670193</td>\n      <td>0.423986</td>\n      <td>0.432746</td>\n      <td>0.730034</td>\n    </tr>\n    <tr>\n      <th>...</th>\n      <td>...</td>\n      <td>...</td>\n      <td>...</td>\n      <td>...</td>\n      <td>...</td>\n    </tr>\n    <tr>\n      <th>329</th>\n      <td>0.654699</td>\n      <td>0.673253</td>\n      <td>0.910914</td>\n      <td>0.877196</td>\n      <td>0.110326</td>\n    </tr>\n    <tr>\n      <th>330</th>\n      <td>0.962833</td>\n      <td>0.581496</td>\n      <td>0.028722</td>\n      <td>0.784552</td>\n      <td>0.338487</td>\n    </tr>\n    <tr>\n      <th>331</th>\n      <td>0.284145</td>\n      <td>0.453252</td>\n      <td>0.023533</td>\n      <td>0.343432</td>\n      <td>0.151557</td>\n    </tr>\n    <tr>\n      <th>332</th>\n      <td>0.047628</td>\n      <td>0.855339</td>\n      <td>0.252900</td>\n      <td>0.706581</td>\n      <td>0.554078</td>\n    </tr>\n    <tr>\n      <th>333</th>\n      <td>0.357612</td>\n      <td>0.073341</td>\n      <td>0.320213</td>\n      <td>0.058953</td>\n      <td>0.471567</td>\n    </tr>\n  </tbody>\n</table>\n<p>334 rows × 5 columns</p>\n</div>"
     },
     "metadata": {},
     "execution_count": 33
    }
   ],
   "source": [
    "# ser = pd.Series(np.random.rand(34))\n",
    "# type(ser)\n",
    "newdf = pd.DataFrame(np.random.rand(334,5), index=np.arange(334))\n",
    "newdf"
   ]
  }
 ]
}